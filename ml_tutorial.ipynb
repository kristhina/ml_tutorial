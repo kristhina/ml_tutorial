{
 "nbformat": 4,
 "nbformat_minor": 2,
 "metadata": {
  "language_info": {
   "name": "python",
   "codemirror_mode": {
    "name": "ipython",
    "version": 3
   },
   "version": "3.7.5-final"
  },
  "orig_nbformat": 2,
  "file_extension": ".py",
  "mimetype": "text/x-python",
  "name": "python",
  "npconvert_exporter": "python",
  "pygments_lexer": "ipython3",
  "version": 3,
  "kernelspec": {
   "name": "python37564bitmltutorialpipenv54fda35411444aa38d11801a98b06adc",
   "display_name": "Python 3.7.5 64-bit ('ml_tutorial': pipenv)"
  }
 },
 "cells": [
  {
   "cell_type": "markdown",
   "metadata": {},
   "source": [
    "We have to import all the python libraries that we will need in our classification."
   ]
  },
  {
   "cell_type": "code",
   "execution_count": 190,
   "metadata": {},
   "outputs": [],
   "source": [
    "import pandas as pd\n",
    "from sklearn.model_selection import train_test_split\n",
    "from sklearn.feature_extraction.text import CountVectorizer\n",
    "from sklearn.linear_model import LogisticRegression\n",
    "from sklearn.metrics import classification_report"
   ]
  },
  {
   "cell_type": "markdown",
   "metadata": {},
   "source": [
    "Now we read our excel file to dataframe. I have prepared the file with 60 sentences: 20 in polish, 20 in english and 20 in spanish. The task for the classifier is to learn how to classify the sentence to the correct language.  \n",
    "You can use your own dataset to classify. Just name the Excel file \"data.xlsx\" and the columns \"name\" and \"category\"."
   ]
  },
  {
   "cell_type": "code",
   "execution_count": 194,
   "metadata": {},
   "outputs": [],
   "source": [
    "df = pd.read_excel(\"data.xlsx\")\n",
    "X = df['name']\n",
    "y = df['category']"
   ]
  },
  {
   "cell_type": "markdown",
   "metadata": {},
   "source": [
    "We have to divide our dataset into train and test group. "
   ]
  },
  {
   "cell_type": "code",
   "execution_count": 180,
   "metadata": {},
   "outputs": [],
   "source": [
    "X_train, X_test, y_train, y_test = train_test_split(X, y, test_size=0.3, random_state=42)"
   ]
  },
  {
   "cell_type": "markdown",
   "metadata": {},
   "source": [
    "In order to classify text you have to vectorize it (every word is represented by 0 if it does not occur in the sentence and 1 if it occurs)."
   ]
  },
  {
   "cell_type": "code",
   "execution_count": 181,
   "metadata": {},
   "outputs": [],
   "source": [
    "vectorizer = CountVectorizer()\n",
    "vectorizer.fit(X_train)\n",
    "X_train=vectorizer.transform(X_train)"
   ]
  },
  {
   "cell_type": "markdown",
   "metadata": {},
   "source": [
    "Now we choose the classifier - logistic regression and we train it with our x and y train data."
   ]
  },
  {
   "cell_type": "code",
   "execution_count": 182,
   "metadata": {},
   "outputs": [
    {
     "output_type": "execute_result",
     "data": {
      "text/plain": "LogisticRegression(C=1.0, class_weight=None, dual=False, fit_intercept=True,\n                   intercept_scaling=1, l1_ratio=None, max_iter=100,\n                   multi_class='auto', n_jobs=None, penalty='l2',\n                   random_state=None, solver='lbfgs', tol=0.0001, verbose=0,\n                   warm_start=False)"
     },
     "metadata": {},
     "execution_count": 182
    }
   ],
   "source": [
    "clf = LogisticRegression()\n",
    "clf.fit(X_train, y_train)"
   ]
  },
  {
   "cell_type": "markdown",
   "metadata": {},
   "source": [
    "And we are ready to test our classifier with the x test data."
   ]
  },
  {
   "cell_type": "code",
   "execution_count": 183,
   "metadata": {},
   "outputs": [],
   "source": [
    "X_test_v = vectorizer.transform(X_test)\n",
    "y_predicted = clf.predict(X_test_v)\n",
    "max_probability = clf.predict_proba(X_test_v).max(axis=1)"
   ]
  },
  {
   "cell_type": "markdown",
   "metadata": {},
   "source": [
    "We can save all the results in one dataframe to show the sentence, correct language, predicted language and the probability of our prediction"
   ]
  },
  {
   "cell_type": "code",
   "execution_count": 184,
   "metadata": {},
   "outputs": [
    {
     "output_type": "execute_result",
     "data": {
      "text/plain": "                                             sentence correct category  \\\n0                  To jest pierwsze zdanie po polsku.           polish   \n5   Trzeba zrobić pranie i ugotować obiad dla dzieci.           polish   \n36  Każdego dnia ćwiczę przez pół godziny rano i w...           polish   \n45  When will a coronavirus vaccine be ready and h...          english   \n13  I was told that the meaning is the same with t...          english   \n54  Barcelona es una ciudad española, capital de l...          spanish   \n33  Codziennie po lekcjach gram w tenisa ze swoim ...           polish   \n48                        Get a one month free trial.          english   \n12                     I like my dog and I hate cats.          english   \n57  ¡Bienvenido a la única web especializada en ac...          spanish   \n46  Social distancing likely to go on long after t...          english   \n50  Justicia prepara una ley exprés para evitar el...          spanish   \n31                Czy moge prosić o jakąś podpowiedź?           polish   \n3             Zjadłabym porcję czekolady z bakaliami.           polish   \n52  Las ballenas del Atlántico tienen altos nivele...          spanish   \n17                   I would like to be an astronaut.          english   \n8   Codziennie po pracy ćwiczę przynajmniej przez ...           polish   \n6    Jazda do pracy na rowerze jest bardzo przyjemna.           polish   \n\n   predicted category  probability  \n0              polish     0.406080  \n5              polish     0.585305  \n36             polish     0.447449  \n45             polish     0.375340  \n13            english     0.916531  \n54            spanish     0.856561  \n33             polish     0.542330  \n48             polish     0.418091  \n12             polish     0.404264  \n57            spanish     0.890319  \n46            english     0.746322  \n50            spanish     0.831973  \n31             polish     0.447449  \n3              polish     0.447449  \n52            spanish     0.699488  \n17            english     0.411905  \n8              polish     0.447449  \n6              polish     0.580726  ",
      "text/html": "<div>\n<style scoped>\n    .dataframe tbody tr th:only-of-type {\n        vertical-align: middle;\n    }\n\n    .dataframe tbody tr th {\n        vertical-align: top;\n    }\n\n    .dataframe thead th {\n        text-align: right;\n    }\n</style>\n<table border=\"1\" class=\"dataframe\">\n  <thead>\n    <tr style=\"text-align: right;\">\n      <th></th>\n      <th>sentence</th>\n      <th>correct category</th>\n      <th>predicted category</th>\n      <th>probability</th>\n    </tr>\n  </thead>\n  <tbody>\n    <tr>\n      <th>0</th>\n      <td>To jest pierwsze zdanie po polsku.</td>\n      <td>polish</td>\n      <td>polish</td>\n      <td>0.406080</td>\n    </tr>\n    <tr>\n      <th>5</th>\n      <td>Trzeba zrobić pranie i ugotować obiad dla dzieci.</td>\n      <td>polish</td>\n      <td>polish</td>\n      <td>0.585305</td>\n    </tr>\n    <tr>\n      <th>36</th>\n      <td>Każdego dnia ćwiczę przez pół godziny rano i w...</td>\n      <td>polish</td>\n      <td>polish</td>\n      <td>0.447449</td>\n    </tr>\n    <tr>\n      <th>45</th>\n      <td>When will a coronavirus vaccine be ready and h...</td>\n      <td>english</td>\n      <td>polish</td>\n      <td>0.375340</td>\n    </tr>\n    <tr>\n      <th>13</th>\n      <td>I was told that the meaning is the same with t...</td>\n      <td>english</td>\n      <td>english</td>\n      <td>0.916531</td>\n    </tr>\n    <tr>\n      <th>54</th>\n      <td>Barcelona es una ciudad española, capital de l...</td>\n      <td>spanish</td>\n      <td>spanish</td>\n      <td>0.856561</td>\n    </tr>\n    <tr>\n      <th>33</th>\n      <td>Codziennie po lekcjach gram w tenisa ze swoim ...</td>\n      <td>polish</td>\n      <td>polish</td>\n      <td>0.542330</td>\n    </tr>\n    <tr>\n      <th>48</th>\n      <td>Get a one month free trial.</td>\n      <td>english</td>\n      <td>polish</td>\n      <td>0.418091</td>\n    </tr>\n    <tr>\n      <th>12</th>\n      <td>I like my dog and I hate cats.</td>\n      <td>english</td>\n      <td>polish</td>\n      <td>0.404264</td>\n    </tr>\n    <tr>\n      <th>57</th>\n      <td>¡Bienvenido a la única web especializada en ac...</td>\n      <td>spanish</td>\n      <td>spanish</td>\n      <td>0.890319</td>\n    </tr>\n    <tr>\n      <th>46</th>\n      <td>Social distancing likely to go on long after t...</td>\n      <td>english</td>\n      <td>english</td>\n      <td>0.746322</td>\n    </tr>\n    <tr>\n      <th>50</th>\n      <td>Justicia prepara una ley exprés para evitar el...</td>\n      <td>spanish</td>\n      <td>spanish</td>\n      <td>0.831973</td>\n    </tr>\n    <tr>\n      <th>31</th>\n      <td>Czy moge prosić o jakąś podpowiedź?</td>\n      <td>polish</td>\n      <td>polish</td>\n      <td>0.447449</td>\n    </tr>\n    <tr>\n      <th>3</th>\n      <td>Zjadłabym porcję czekolady z bakaliami.</td>\n      <td>polish</td>\n      <td>polish</td>\n      <td>0.447449</td>\n    </tr>\n    <tr>\n      <th>52</th>\n      <td>Las ballenas del Atlántico tienen altos nivele...</td>\n      <td>spanish</td>\n      <td>spanish</td>\n      <td>0.699488</td>\n    </tr>\n    <tr>\n      <th>17</th>\n      <td>I would like to be an astronaut.</td>\n      <td>english</td>\n      <td>english</td>\n      <td>0.411905</td>\n    </tr>\n    <tr>\n      <th>8</th>\n      <td>Codziennie po pracy ćwiczę przynajmniej przez ...</td>\n      <td>polish</td>\n      <td>polish</td>\n      <td>0.447449</td>\n    </tr>\n    <tr>\n      <th>6</th>\n      <td>Jazda do pracy na rowerze jest bardzo przyjemna.</td>\n      <td>polish</td>\n      <td>polish</td>\n      <td>0.580726</td>\n    </tr>\n  </tbody>\n</table>\n</div>"
     },
     "metadata": {},
     "execution_count": 184
    }
   ],
   "source": [
    "df_results = pd.DataFrame({'sentence' : X_test, 'correct category' : y_test, 'predicted category' : y_predicted, 'probability': max_probability})\n",
    "df_results"
   ]
  },
  {
   "cell_type": "markdown",
   "metadata": {},
   "source": [
    "We can also see the classification report (with precision, recall, F1-score and accuracy)"
   ]
  },
  {
   "cell_type": "code",
   "execution_count": 185,
   "metadata": {},
   "outputs": [
    {
     "output_type": "stream",
     "name": "stdout",
     "text": "precision    recall  f1-score   support\n\n     english       1.00      0.50      0.67         6\n      polish       0.73      1.00      0.84         8\n     spanish       1.00      1.00      1.00         4\n\n    accuracy                           0.83        18\n   macro avg       0.91      0.83      0.84        18\nweighted avg       0.88      0.83      0.82        18\n\n"
    }
   ],
   "source": [
    "print(classification_report(y_test, y_predicted))"
   ]
  },
  {
   "cell_type": "markdown",
   "metadata": {},
   "source": [
    "And now it is the time to enter our own sentence to classify."
   ]
  },
  {
   "cell_type": "code",
   "execution_count": 186,
   "metadata": {},
   "outputs": [],
   "source": [
    "sentence_to_classify = input('enter the sentence to classify (in polish, english or spanish): ')"
   ]
  },
  {
   "cell_type": "markdown",
   "metadata": {},
   "source": [
    "We have to change it in the vectorized list."
   ]
  },
  {
   "cell_type": "code",
   "execution_count": 187,
   "metadata": {},
   "outputs": [],
   "source": [
    "list_to_predict = list()\n",
    "list_to_predict.append(sentence_to_classify)\n",
    "list_to_predict = vectorizer.transform(list_to_predict)"
   ]
  },
  {
   "cell_type": "markdown",
   "metadata": {},
   "source": [
    "And now we are ready to predict using our logistic regression classifier."
   ]
  },
  {
   "cell_type": "code",
   "execution_count": 188,
   "metadata": {},
   "outputs": [],
   "source": [
    "predicted = clf.predict(list_to_predict)[0]\n",
    "predicted_probability = clf.predict_proba(list_to_predict)\n",
    "best_predicted_probability = round(predicted_probability.max(axis=1)[0],4)"
   ]
  },
  {
   "cell_type": "code",
   "execution_count": 189,
   "metadata": {},
   "outputs": [
    {
     "output_type": "stream",
     "name": "stdout",
     "text": "You have written the sentence: nic mi się nie chce dzisiaj robić\nWe predict that this is sentence in polish with the probability 0.6481.\n"
    }
   ],
   "source": [
    "print(\"You have written the sentence: {}\".format(sentence_to_classify))\n",
    "print(\"We predict that this is sentence in {} with the probability {}.\".format(predicted, best_predicted_probability))"
   ]
  }
 ]
}